{
 "cells": [
  {
   "cell_type": "code",
   "execution_count": 1,
   "metadata": {},
   "outputs": [],
   "source": [
    "import numpy as np\n",
    "from sklearn.datasets import load_breast_cancer\n",
    "import pandas as pd\n",
    "from sklearn.model_selection import train_test_split\n",
    "from sklearn.metrics import classification_report, confusion_matrix\n",
    "from sklearn.preprocessing import StandardScaler"
   ]
  },
  {
   "cell_type": "code",
   "execution_count": 2,
   "metadata": {},
   "outputs": [],
   "source": [
    "def sigmoid(Z):\n",
    "    A = (1 + np.exp(-Z))**(-1)\n",
    "    return A\n",
    "\n",
    "def sigmoid_derv(Z):\n",
    "    A = sigmoid(Z)\n",
    "    return A*(1-A)"
   ]
  },
  {
   "cell_type": "code",
   "execution_count": 3,
   "metadata": {},
   "outputs": [],
   "source": [
    "def tanh(Z):\n",
    "    return np.multiply((np.exp(Z)-np.exp(-Z)), (np.exp(Z)+np.exp(-Z))**-1)\n",
    "\n",
    "def tanh_derv(Z):\n",
    "    A = sigmoid(Z)\n",
    "    return 1-(A**2)"
   ]
  },
  {
   "cell_type": "code",
   "execution_count": 4,
   "metadata": {},
   "outputs": [],
   "source": [
    "def relu(Z):\n",
    "    return np.maximum(0, Z)\n",
    "\n",
    "def relu_derv(Z):\n",
    "    return (Z>=0).astype(int)"
   ]
  },
  {
   "cell_type": "code",
   "execution_count": 5,
   "metadata": {},
   "outputs": [],
   "source": [
    "def leaky_relu(Z, leak):\n",
    "    return np.maximum(leak*Z, Z)\n",
    "\n",
    "def leaky_relu_derv(Z, leak):\n",
    "    x = (Z>=0).astype(int)\n",
    "    x[x==0] = leak\n",
    "    return x"
   ]
  },
  {
   "cell_type": "code",
   "execution_count": null,
   "metadata": {},
   "outputs": [],
   "source": []
  },
  {
   "cell_type": "code",
   "execution_count": 6,
   "metadata": {},
   "outputs": [],
   "source": [
    "class NeuralNetwork:\n",
    "    def __init__(self, activation_list=[sigmoid], activation_derv_list=[sigmoid]):\n",
    "        self.activation_list = [None] + activation_list\n",
    "        self.activation_derv_list = [None] + activation_derv_list\n",
    "        self.loss_history = []\n",
    "        \n",
    "    def random_initialize(self, num=0.01):\n",
    "        for l in range(1, len(self.ndims)):\n",
    "            self.W_list[l] = np.random.randn(self.ndims[l-1], self.ndims[l])*num\n",
    "            self.dW_list[l] = np.random.randn(self.ndims[l-1], self.ndims[l])*num\n",
    "            self.B_list[l] = np.random.randn(1, self.ndims[l])*num\n",
    "            self.dB_list[l] = np.random.randn(1, self.ndims[l])*num\n",
    "            \n",
    "    def forward_prop(self):\n",
    "        for l in range(1, len(self.ndims)):\n",
    "            self.Z_list[l] = np.dot(self.A_list[l-1], self.W_list[l]) + self.B_list[l]\n",
    "            self.A_list[l] = self.activation_list[l](self.Z_list[l])\n",
    "            \n",
    "    def backward_prop(self):\n",
    "        for l in range(len(self.ndims)-1, 0, -1):\n",
    "            if l==len(self.ndims)-1:\n",
    "                self.dA_list[l] = (self.A_list[l]-self.Y)/(self.A_list[l]*(1-self.A_list[l]))\n",
    "            else:\n",
    "                self.dA_list[l] = np.dot(self.dZ_list[l+1], (self.W_list[l+1].T))\n",
    "            self.dZ_list[l] = self.dA_list[l]*self.activation_derv_list[l](self.Z_list[l])\n",
    "            self.dW_list[l] = np.dot((self.A_list[l-1].T), (self.dZ_list[l]))\n",
    "            self.dB_list[l] = np.sum(self.dZ_list[l], axis=0, keepdims=True)\n",
    "                \n",
    "    def update(self):\n",
    "        for l in range(1, len(self.ndims)):\n",
    "            self.W_list[l] = self.W_list[l] - (self.alpha*self.dW_list[l])/self.m\n",
    "            self.B_list[l] = self.B_list[l] - (self.alpha*self.dB_list[l])/self.m\n",
    "            \n",
    "    def loss(self, A, Y):\n",
    "        return (-(Y*np.log(A) + (1-Y)*np.log(1-A))).sum()/self.m\n",
    "        \n",
    "    def fit(self, X, Y, iterations, alpha, ndims=[]):\n",
    "        \n",
    "        self.X = X\n",
    "        self.Y = Y\n",
    "        self.iterations = iterations\n",
    "        self.alpha = alpha\n",
    "        \n",
    "        \n",
    "        self.m = self.X.shape[0]\n",
    "        self.n0 = self.X.shape[1]\n",
    "        self.nlast = 1 if len(self.Y.shape)==1 else self.Y.shape[1]\n",
    "        self.Y = self.Y.reshape((self.Y.shape[0], self.nlast))\n",
    "\n",
    "        self.ndims = [self.n0] + ndims + [self.nlast]\n",
    "        self.A_list = [self.X] + [None]*(len(self.ndims)-1)\n",
    "        self.dA_list = [None]*len(self.ndims)\n",
    "        self.Z_list = [None]*len(self.ndims)\n",
    "        self.dZ_list = [None]*len(self.ndims)\n",
    "        self.W_list = [None]*len(self.ndims)\n",
    "        self.dW_list = [None]*len(self.ndims)\n",
    "        self.B_list = [None]*len(self.ndims)\n",
    "        self.dB_list = [None]*len(self.ndims)\n",
    "        \n",
    "        self.random_initialize()\n",
    "        \n",
    "        for _ in range(self.iterations):\n",
    "            self.forward_prop()\n",
    "            self.backward_prop()\n",
    "            self.update()\n",
    "            self.loss_history += self.loss(self.A_list[-1], self.Y)\n",
    "    \n",
    "    def predict(self, X, threshold=0.5):\n",
    "        for l in range(1, len(self.ndims)):\n",
    "            Z = np.dot(X, self.W_list[l]) + self.B_list[l]\n",
    "            X = self.activation_list[l](Z)\n",
    "        return X"
   ]
  },
  {
   "cell_type": "code",
   "execution_count": null,
   "metadata": {},
   "outputs": [],
   "source": []
  },
  {
   "cell_type": "code",
   "execution_count": 7,
   "metadata": {},
   "outputs": [],
   "source": [
    "data = load_breast_cancer()\n",
    "X = data.data\n",
    "Y = data.target\n",
    "scaler=StandardScaler()\n",
    "X=scaler.fit_transform(X)"
   ]
  },
  {
   "cell_type": "code",
   "execution_count": 8,
   "metadata": {},
   "outputs": [],
   "source": [
    "model = NeuralNetwork([tanh, sigmoid], [tanh_derv, sigmoid_derv])"
   ]
  },
  {
   "cell_type": "code",
   "execution_count": 9,
   "metadata": {},
   "outputs": [],
   "source": [
    "model.fit(X, Y, 100, 1, [10])"
   ]
  },
  {
   "cell_type": "code",
   "execution_count": 10,
   "metadata": {},
   "outputs": [
    {
     "data": {
      "text/plain": [
       "0.9859402460456942"
      ]
     },
     "execution_count": 10,
     "metadata": {},
     "output_type": "execute_result"
    }
   ],
   "source": [
    "(pd.Series(model.predict(X).T[0]>=0.5) == pd.Series(Y)).sum()/len(Y)"
   ]
  },
  {
   "cell_type": "code",
   "execution_count": null,
   "metadata": {},
   "outputs": [],
   "source": []
  }
 ],
 "metadata": {
  "kernelspec": {
   "display_name": "Python 3",
   "language": "python",
   "name": "python3"
  },
  "language_info": {
   "codemirror_mode": {
    "name": "ipython",
    "version": 3
   },
   "file_extension": ".py",
   "mimetype": "text/x-python",
   "name": "python",
   "nbconvert_exporter": "python",
   "pygments_lexer": "ipython3",
   "version": "3.7.6"
  }
 },
 "nbformat": 4,
 "nbformat_minor": 4
}
